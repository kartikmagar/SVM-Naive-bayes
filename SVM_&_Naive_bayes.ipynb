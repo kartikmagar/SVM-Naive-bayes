{
  "nbformat": 4,
  "nbformat_minor": 0,
  "metadata": {
    "colab": {
      "provenance": []
    },
    "kernelspec": {
      "name": "python3",
      "display_name": "Python 3"
    },
    "language_info": {
      "name": "python"
    }
  },
  "cells": [
    {
      "cell_type": "markdown",
      "source": [
        "# SVM & Naive bayes\n",
        "# Assignment Questions"
      ],
      "metadata": {
        "id": "hhXulcw5PTE9"
      }
    },
    {
      "cell_type": "markdown",
      "source": [
        "## Theoretical Questions"
      ],
      "metadata": {
        "id": "oBNDo1T2PxeF"
      }
    },
    {
      "cell_type": "markdown",
      "source": [
        "### 1. What is a Support Vector Machine (SVM)?\n",
        "\n",
        "-> SVM is a supervised machine learning algorithm used for classification and regression tasks. It finds the optimal hyperplane that separates data points of different classes with the maximum margin.\n",
        "\n",
        "\n",
        "### 2. Difference between Hard Margin and Soft Margin SVM\n",
        "\n",
        "-> Hard Margin - No misclassification allowed; works only if data is perfectly linearly separable.\n",
        "Soft Margin - Allows some misclassification using a penalty term to handle noisy or overlapping data.\n",
        "\n",
        "\n",
        "### 3. Mathematical intuition behind SVM\n",
        "\n",
        "-> SVM tries to maximize the margin between classes. This is formulated as an optimization problem:\n",
        "min\n",
        "min 2 1 ||W|| 2 s.t. y i (w⋅x i+b)≥1\n",
        "\n",
        "\n",
        "### 4. Role of Lagrange Multipliers in SVM\n",
        "\n",
        "-> They help solve the constrained optimization problem by transforming it into its dual form, which allows using the Kernel Trick for non-linear data.\n",
        "\n",
        "\n",
        "### 5. What are Support Vectors in SVM?\n",
        "\n",
        "-> The data points that are closest to the decision boundary and define the position and orientation of the hyperplane.\n",
        "\n",
        "\n",
        "### 6. What is a Support Vector Classifier (SVC)?\n",
        "\n",
        "-> An SVM model specifically used for classification tasks.\n",
        "\n",
        "\n",
        "### 7. What is a Support Vector Regressor (SVR)?\n",
        "\n",
        "-> An SVM model used for regression tasks, fitting the best line within a certain error tolerance.\n",
        "\n",
        "\n",
        "### 8. What is the Kernel Trick in SVM?\n",
        "\n",
        "-> A method that transforms non-linearly separable data into higher dimensions using a kernel function so that it becomes linearly separable.\n",
        "\n",
        "\n",
        "### 9. Compare Linear Kernel, Polynomial Kernel, and RBF Kernel\n",
        "\n",
        "-> Linear - Best for linearly separable data; fast and simple.\n",
        "Polynomial - Captures polynomial relationships between features.\n",
        "RBF (Gaussian) - Good for complex, non-linear boundaries.\n",
        "\n",
        "\n",
        "### 10. Effect of the C parameter in SVM\n",
        "\n",
        "-> igh C - Low bias, high variance; tries to classify all training points correctly.\n",
        "Low C -  High bias, low variance; allows more margin violations.\n",
        "\n",
        "\n",
        "### 11. Role of Gamma in RBF Kernel SVM\n",
        "\n",
        "-> Gamma defines how far the influence of a single training point reaches.\n",
        "High Gamma - Only nearby points influence the decision boundary.\n",
        "Low Gamma - Far points also influence the boundary.\n",
        "\n",
        "\n",
        "### 12. What is Naïve Bayes classifier, and why “Naïve”?\n",
        "\n",
        "-> A probabilistic classifier based on Bayes'Theorem assuming feature independence (hence “naïve”).\n",
        "\n",
        "\n",
        "### 13. What is Bayes'Theorem?\n",
        "\n",
        "-> It calculates the probability of event A given event B.\n",
        "(P(A|B)=\\frac{P(B|A)\\cdot P(A)}{P(B)}\\)\n",
        "\n",
        "### 14. Differences between Gaussian, Multinomial, and Bernoulli Naïve Bayes\n",
        "\n",
        "-> Gaussian - For continuous data (assumes Gaussian distribution).\n",
        "Multinomial - For count data (e.g., word counts).\n",
        "Bernoulli - For binary data (presence/absence of a feature).\n",
        "\n",
        "\n",
        "### 15. When to use Gaussian Naïve Bayes?\n",
        "\n",
        "-> When features are continuous and approximately normally distributed.\n",
        "\n",
        "\n",
        "### 16. Key assumptions made by Naïve Bayes\n",
        "\n",
        "-> Features are conditionally independent.\n",
        "Each feature contributes equally to the outcome.\n",
        "\n",
        "\n",
        "### 17. Advantages and disadvantages of Naïve Bayes\n",
        "\n",
        "-> Advantages - Simple, fast, works well with small data, good for text classification.Disadvantages - Assumption of independence is often unrealistic; poor with correlated features.\n",
        "\n",
        "\n",
        "### 18. Why Naïve Bayes is good for text classification?\n",
        "\n",
        "-> Because word occurrences in text can be treated as independent features, making it computationally efficient and accurate.\n",
        "\n",
        "\n",
        "### 19. Compare SVM and Naïve Bayes for classification\n",
        "\n",
        "-> SVM - Works well for complex, high-dimensional data; slower on large datasets.\n",
        "Naïve Bayes - Works well for text and categorical data; faster but may be less accurate when features are dependent.\n",
        "\n",
        "\n",
        "### 20. How does Laplace Smoothing help in Naïve Bayes?\n",
        "\n",
        "-> Prevents zero probability for unseen features by adding a small constant to counts:\n",
        "(P(w_{i})=\\frac{\\text{count}(w_{i})+1}{N+V}\\)\n",
        "V is vocabulary size."
      ],
      "metadata": {
        "id": "iEATWyvtRHGe"
      }
    },
    {
      "cell_type": "markdown",
      "source": [
        "#  Practical Questions"
      ],
      "metadata": {
        "id": "pgVmpzeeWZoQ"
      }
    },
    {
      "cell_type": "code",
      "source": [
        "# 1\n",
        "\n",
        "from sklearn import datasets\n",
        "from sklearn.model_selection import train_test_split\n",
        "from sklearn.svm import SVC\n",
        "from sklearn.metrics import accuracy_score\n",
        "\n",
        "# Load Iris dataset\n",
        "iris = datasets.load_iris()\n",
        "X, y = iris.data, iris.target\n",
        "\n",
        "# Split data\n",
        "X_train, X_test, y_train, y_test = train_test_split(X, y, test_size=0.2, random_state=42)\n",
        "\n",
        "# Create SVM classifier\n",
        "clf = SVC(kernel='linear')\n",
        "clf.fit(X_train, y_train)\n",
        "\n",
        "# Predict and evaluate\n",
        "y_pred = clf.predict(X_test)\n",
        "print(\"Iris SVM Accuracy:\", accuracy_score(y_test, y_pred))\n"
      ],
      "metadata": {
        "colab": {
          "base_uri": "https://localhost:8080/"
        },
        "id": "vGCDik6OWgaK",
        "outputId": "fc64a930-fafb-43a3-eacf-a8c5fa526c02"
      },
      "execution_count": 1,
      "outputs": [
        {
          "output_type": "stream",
          "name": "stdout",
          "text": [
            "Iris SVM Accuracy: 1.0\n"
          ]
        }
      ]
    },
    {
      "cell_type": "code",
      "source": [
        "# 2\n",
        "\n",
        "from sklearn import datasets\n",
        "from sklearn.model_selection import train_test_split\n",
        "from sklearn.svm import SVC\n",
        "from sklearn.metrics import accuracy_score\n",
        "\n",
        "# Load Wine dataset\n",
        "wine = datasets.load_wine()\n",
        "X, y = wine.data, wine.target\n",
        "\n",
        "# Split data\n",
        "X_train, X_test, y_train, y_test = train_test_split(X, y, test_size=0.2, random_state=42)\n",
        "\n",
        "# Train Linear SVM\n",
        "clf_linear = SVC(kernel='linear')\n",
        "clf_linear.fit(X_train, y_train)\n",
        "\n",
        "# Train RBF SVM\n",
        "clf_rbf = SVC(kernel='rbf')\n",
        "clf_rbf.fit(X_train, y_train)\n",
        "\n",
        "# Predictions\n",
        "pred_linear = clf_linear.predict(X_test)\n",
        "pred_rbf = clf_rbf.predict(X_test)\n",
        "\n",
        "# Accuracies\n",
        "print(\"Linear Kernel Accuracy:\", accuracy_score(y_test, pred_linear))\n",
        "print(\"RBF Kernel Accuracy:\", accuracy_score(y_test, pred_rbf))\n"
      ],
      "metadata": {
        "colab": {
          "base_uri": "https://localhost:8080/"
        },
        "id": "UWUF0OlMWtdu",
        "outputId": "86bc13a5-ee6f-418e-c1f1-53b46407b3e8"
      },
      "execution_count": 2,
      "outputs": [
        {
          "output_type": "stream",
          "name": "stdout",
          "text": [
            "Linear Kernel Accuracy: 1.0\n",
            "RBF Kernel Accuracy: 0.8055555555555556\n"
          ]
        }
      ]
    },
    {
      "cell_type": "code",
      "source": [
        "# 3\n",
        "\n",
        "from sklearn.datasets import fetch_california_housing\n",
        "from sklearn.model_selection import train_test_split\n",
        "from sklearn.svm import SVR\n",
        "from sklearn.metrics import mean_squared_error\n",
        "\n",
        "# Load California housing dataset\n",
        "housing = fetch_california_housing()\n",
        "X, y = housing.data, housing.target\n",
        "\n",
        "# Split data\n",
        "X_train, X_test, y_train, y_test = train_test_split(X, y, test_size=0.2, random_state=42)\n",
        "\n",
        "# Train SVR\n",
        "svr = SVR(kernel='rbf')\n",
        "svr.fit(X_train, y_train)\n",
        "\n",
        "# Predict & evaluate\n",
        "y_pred = svr.predict(X_test)\n",
        "print(\"SVR Mean Squared Error:\", mean_squared_error(y_test, y_pred))\n"
      ],
      "metadata": {
        "colab": {
          "base_uri": "https://localhost:8080/"
        },
        "id": "WZq_rQqTWtZ2",
        "outputId": "89cb0d35-a093-4864-b4f3-6b9193774f4f"
      },
      "execution_count": 3,
      "outputs": [
        {
          "output_type": "stream",
          "name": "stdout",
          "text": [
            "SVR Mean Squared Error: 1.3320115421348744\n"
          ]
        }
      ]
    },
    {
      "cell_type": "code",
      "source": [
        "# 4\n",
        "\n",
        "import numpy as np\n",
        "import matplotlib.pyplot as plt\n",
        "from sklearn.svm import SVC\n",
        "from sklearn.datasets import make_classification\n",
        "\n",
        "# Create synthetic dataset\n",
        "X, y = make_classification(n_features=2, n_redundant=0, n_informative=2,\n",
        "                           n_clusters_per_class=1, n_samples=100, random_state=42)\n",
        "\n",
        "# Train Polynomial Kernel SVM\n",
        "clf = SVC(kernel='poly', degree=3)\n",
        "clf.fit(X, y)\n",
        "\n",
        "# Plot decision boundary\n",
        "x_min, x_max = X[:, 0].min() - 1, X[:, 0].max() + 1\n",
        "y_min, y_max = X[:, 1].min() - 1, X[:, 1].max() + 1\n",
        "xx, yy = np.meshgrid(np.linspace(x_min, x_max, 500),\n",
        "                     np.linspace(y_min, y_max, 500))\n",
        "Z = clf.predict(np.c_[xx.ravel(), yy.ravel()])\n",
        "Z = Z.reshape(xx.shape)\n",
        "\n",
        "plt.contourf(xx, yy, Z, alpha=0.3)\n",
        "plt.scatter(X[:, 0], X[:, 1], c=y, edgecolors='k')\n",
        "plt.title(\"SVM with Polynomial Kernel (degree=3)\")\n",
        "plt.show()\n"
      ],
      "metadata": {
        "colab": {
          "base_uri": "https://localhost:8080/",
          "height": 452
        },
        "id": "DW980Ho7WtWQ",
        "outputId": "44ca59a4-863f-43a1-db25-c73f52ba05e4"
      },
      "execution_count": 4,
      "outputs": [
        {
          "output_type": "display_data",
          "data": {
            "text/plain": [
              "<Figure size 640x480 with 1 Axes>"
            ],
            "image/png": "[encoded data removed]"
          },
          "metadata": {}
        }
      ]
    },
    {
      "cell_type": "code",
      "source": [
        "# 5\n",
        "\n",
        "from sklearn.datasets import load_breast_cancer\n",
        "from sklearn.model_selection import train_test_split\n",
        "from sklearn.naive_bayes import GaussianNB\n",
        "from sklearn.metrics import accuracy_score\n",
        "\n",
        "# Load Breast Cancer dataset\n",
        "cancer = load_breast_cancer()\n",
        "X, y = cancer.data, cancer.target\n",
        "\n",
        "# Split data\n",
        "X_train, X_test, y_train, y_test = train_test_split(X, y, test_size=0.2, random_state=42)\n",
        "\n",
        "# Train Gaussian Naïve Bayes\n",
        "gnb = GaussianNB()\n",
        "gnb.fit(X_train, y_train)\n",
        "\n",
        "# Predict & evaluate\n",
        "y_pred = gnb.predict(X_test)\n",
        "print(\"Gaussian NB Accuracy:\", accuracy_score(y_test, y_pred))\n"
      ],
      "metadata": {
        "colab": {
          "base_uri": "https://localhost:8080/"
        },
        "id": "VoKsw9hGWtTA",
        "outputId": "d6bb8ae9-b73e-4997-da38-c9c13cf08db3"
      },
      "execution_count": 6,
      "outputs": [
        {
          "output_type": "stream",
          "name": "stdout",
          "text": [
            "Gaussian NB Accuracy: 0.9736842105263158\n"
          ]
        }
      ]
    },
    {
      "cell_type": "code",
      "source": [
        "# 6\n",
        "\n",
        "from sklearn.datasets import fetch_20newsgroups\n",
        "from sklearn.feature_extraction.text import CountVectorizer\n",
        "from sklearn.naive_bayes import MultinomialNB\n",
        "from sklearn.metrics import accuracy_score\n",
        "from sklearn.model_selection import train_test_split\n",
        "\n",
        "# Load dataset\n",
        "newsgroups = fetch_20newsgroups(subset='all')\n",
        "X_train, X_test, y_train, y_test = train_test_split(newsgroups.data, newsgroups.target, test_size=0.2, random_state=42)\n",
        "\n",
        "# Convert text to bag-of-words\n",
        "vectorizer = CountVectorizer()\n",
        "X_train_counts = vectorizer.fit_transform(X_train)\n",
        "X_test_counts = vectorizer.transform(X_test)\n",
        "\n",
        "# Train Multinomial Naïve Bayes\n",
        "mnb = MultinomialNB()\n",
        "mnb.fit(X_train_counts, y_train)\n",
        "\n",
        "# Predict & evaluate\n",
        "y_pred = mnb.predict(X_test_counts)\n",
        "print(\"Multinomial NB Accuracy:\", accuracy_score(y_test, y_pred))\n"
      ],
      "metadata": {
        "colab": {
          "base_uri": "https://localhost:8080/"
        },
        "id": "QjGtJZ99WtL4",
        "outputId": "60296c7e-b781-445f-b85c-b09bc4db466a"
      },
      "execution_count": 7,
      "outputs": [
        {
          "output_type": "stream",
          "name": "stdout",
          "text": [
            "Multinomial NB Accuracy: 0.8511936339522547\n"
          ]
        }
      ]
    },
    {
      "cell_type": "code",
      "source": [
        "# 7\n",
        "\n",
        "from sklearn import datasets\n",
        "from sklearn.model_selection import train_test_split\n",
        "from sklearn.svm import SVC\n",
        "from sklearn.metrics import accuracy_score\n",
        "\n",
        "# 1. Load dataset\n",
        "iris = datasets.load_iris()\n",
        "X = iris.data\n",
        "y = iris.target\n",
        "\n",
        "# 2. Split into train/test (80% train, 20% test)\n",
        "X_train, X_test, y_train, y_test = train_test_split(X, y, test_size=0.2, random_state=42)\n",
        "\n",
        "# 3. Create SVM model (RBF kernel by default)\n",
        "model = SVC(kernel='rbf', random_state=42)\n",
        "model.fit(X_train, y_train)\n",
        "\n",
        "# 4. Predict on test set\n",
        "y_pred = model.predict(X_test)\n",
        "\n",
        "# 5. Evaluate accuracy\n",
        "accuracy = accuracy_score(y_test, y_pred)\n",
        "print(f\"Accuracy: {accuracy:.2f}\")\n"
      ],
      "metadata": {
        "colab": {
          "base_uri": "https://localhost:8080/"
        },
        "id": "bdfR-ZyLWtIF",
        "outputId": "812f180f-214a-4b92-a8fd-a05bf544c8e1"
      },
      "execution_count": 9,
      "outputs": [
        {
          "output_type": "stream",
          "name": "stdout",
          "text": [
            "Accuracy: 1.00\n"
          ]
        }
      ]
    },
    {
      "cell_type": "code",
      "source": [
        "# 8\n",
        "\n",
        "from sklearn import datasets\n",
        "from sklearn.model_selection import train_test_split\n",
        "from sklearn.svm import SVC\n",
        "from sklearn.metrics import accuracy_score\n",
        "\n",
        "# 1. Load Wine dataset\n",
        "wine = datasets.load_wine()\n",
        "X = wine.data\n",
        "y = wine.target\n",
        "\n",
        "# 2. Split into train/test\n",
        "X_train, X_test, y_train, y_test = train_test_split(X, y, test_size=0.2, random_state=42)\n",
        "\n",
        "# 3. Train SVM with Linear kernel\n",
        "svm_linear = SVC(kernel='linear', random_state=42)\n",
        "svm_linear.fit(X_train, y_train)\n",
        "y_pred_linear = svm_linear.predict(X_test)\n",
        "acc_linear = accuracy_score(y_test, y_pred_linear)\n",
        "\n",
        "# 4. Train SVM with RBF kernel\n",
        "svm_rbf = SVC(kernel='rbf', random_state=42)\n",
        "svm_rbf.fit(X_train, y_train)\n",
        "y_pred_rbf = svm_rbf.predict(X_test)\n",
        "acc_rbf = accuracy_score(y_test, y_pred_rbf)\n",
        "\n",
        "# 5. Compare accuracies\n",
        "print(\"SVM Kernel Comparison on Wine Dataset\")\n",
        "print(f\"Linear Kernel Accuracy: {acc_linear:.2f}\")\n",
        "print(f\"RBF Kernel Accuracy:    {acc_rbf:.2f}\")\n"
      ],
      "metadata": {
        "id": "ca2zyVOQYjDU",
        "outputId": "a22e8267-2032-4ce4-d408-10ecd27bd856",
        "colab": {
          "base_uri": "https://localhost:8080/"
        }
      },
      "execution_count": 10,
      "outputs": [
        {
          "output_type": "stream",
          "name": "stdout",
          "text": [
            "SVM Kernel Comparison on Wine Dataset\n",
            "Linear Kernel Accuracy: 1.00\n",
            "RBF Kernel Accuracy:    0.81\n"
          ]
        }
      ]
    },
    {
      "cell_type": "code",
      "source": [
        "# 9\n",
        "\n",
        "from sklearn.datasets import fetch_california_housing\n",
        "from sklearn.model_selection import train_test_split\n",
        "from sklearn.svm import SVR\n",
        "from sklearn.metrics import mean_squared_error\n",
        "import numpy as np\n",
        "\n",
        "# 1. Load the California Housing dataset\n",
        "housing = fetch_california_housing()\n",
        "X = housing.data\n",
        "y = housing.target\n",
        "\n",
        "# 2. Train/Test Split\n",
        "X_train, X_test, y_train, y_test = train_test_split(X, y, test_size=0.2, random_state=42)\n",
        "\n",
        "# 3. Create and train the SVR model (RBF kernel)\n",
        "svr = SVR(kernel='rbf', C=100, gamma=0.1, epsilon=0.1)\n",
        "svr.fit(X_train, y_train)\n",
        "\n",
        "# 4. Predictions\n",
        "y_pred = svr.predict(X_test)\n",
        "\n",
        "# 5. Evaluate with MSE\n",
        "mse = mean_squared_error(y_test, y_pred)\n",
        "rmse = np.sqrt(mse)  # Root Mean Squared Error for better interpretability\n",
        "\n",
        "print(\"SVR on Housing Dataset\")\n",
        "print(f\"Mean Squared Error: {mse:.4f}\")\n",
        "print(f\"Root Mean Squared Error: {rmse:.4f}\")\n"
      ],
      "metadata": {
        "id": "Vh_o8cIaY0Uk",
        "outputId": "e6375662-c2fc-4e07-876c-edcb11e0d93d",
        "colab": {
          "base_uri": "https://localhost:8080/"
        }
      },
      "execution_count": 11,
      "outputs": [
        {
          "output_type": "stream",
          "name": "stdout",
          "text": [
            "SVR on Housing Dataset\n",
            "Mean Squared Error: 1.1010\n",
            "Root Mean Squared Error: 1.0493\n"
          ]
        }
      ]
    },
    {
      "cell_type": "code",
      "source": [
        "# 10\n",
        "\n",
        "import numpy as np\n",
        "import matplotlib.pyplot as plt\n",
        "from sklearn.datasets import make_classification\n",
        "from sklearn.svm import SVC\n",
        "from sklearn.preprocessing import StandardScaler\n",
        "\n",
        "# 1. Create a synthetic 2D dataset\n",
        "X, y = make_classification(\n",
        "    n_samples=200,\n",
        "    n_features=2,      # for 2D visualization\n",
        "    n_redundant=0,\n",
        "    n_clusters_per_class=1,\n",
        "    n_classes=2,\n",
        "    random_state=42\n",
        ")\n",
        "\n",
        "# 2. Standardize the features\n",
        "scaler = StandardScaler()\n",
        "X = scaler.fit_transform(X)\n",
        "\n",
        "# 3. Train SVM Classifier with Polynomial Kernel\n",
        "clf = SVC(kernel='poly', degree=3, C=1)\n",
        "clf.fit(X, y)\n",
        "\n",
        "# 4. Plot decision boundary\n",
        "def plot_decision_boundary(X, y, model):\n",
        "    # Create a grid of points\n",
        "    x_min, x_max = X[:, 0].min() - 1, X[:, 0].max() + 1\n",
        "    y_min, y_max = X[:, 1].min() - 1, X[:, 1].max() + 1\n",
        "    xx, yy = np.meshgrid(\n",
        "        np.linspace(x_min, x_max, 200),\n",
        "        np.linspace(y_min, y_max, 200)\n",
        "    )\n",
        "\n",
        "    # Predict for each grid point\n",
        "    Z = model.predict(np.c_[xx.ravel(), yy.ravel()])\n",
        "    Z = Z.reshape(xx.shape)\n",
        "\n",
        "    # Plot contour and samples\n",
        "    plt.contourf(xx, yy, Z, alpha=0.3, cmap=plt.cm.coolwarm)\n",
        "    plt.scatter(X[:, 0], X[:, 1], c=y, s=30, edgecolors='k', cmap=plt.cm.coolwarm)\n",
        "    plt.title(\"SVM with Polynomial Kernel (degree=3)\")\n",
        "    plt.xlabel(\"Feature 1\")\n",
        "    plt.ylabel(\"Feature 2\")\n",
        "    plt.show()\n",
        "\n",
        "plot_decision_boundary(X, y, clf)\n"
      ],
      "metadata": {
        "id": "3RZREbqPZpR0",
        "outputId": "9b91d7bd-676d-4dd2-df94-42a808ce38a5",
        "colab": {
          "base_uri": "https://localhost:8080/",
          "height": 472
        }
      },
      "execution_count": 14,
      "outputs": [
        {
          "output_type": "display_data",
          "data": {
            "text/plain": [
              "<Figure size 640x480 with 1 Axes>"
            ],
            "image/png": "[encoded data removed]"
          },
          "metadata": {}
        }
      ]
    },
    {
      "cell_type": "code",
      "source": [
        "# 11\n",
        "\n",
        "from sklearn.datasets import load_breast_cancer\n",
        "from sklearn.model_selection import train_test_split\n",
        "from sklearn.naive_bayes import GaussianNB\n",
        "from sklearn.metrics import accuracy_score, classification_report\n",
        "\n",
        "# 1. Load dataset\n",
        "data = load_breast_cancer()\n",
        "X, y = data.data, data.target\n",
        "\n",
        "# 2. Split into train and test sets\n",
        "X_train, X_test, y_train, y_test = train_test_split(\n",
        "    X, y, test_size=0.2, random_state=42\n",
        ")\n",
        "\n",
        "# 3. Create and train Gaussian Naive Bayes model\n",
        "model = GaussianNB()\n",
        "model.fit(X_train, y_train)\n",
        "\n",
        "# 4. Make predictions\n",
        "y_pred = model.predict(X_test)\n",
        "\n",
        "# 5. Evaluate accuracy\n",
        "accuracy = accuracy_score(y_test, y_pred)\n",
        "print(f\"Accuracy: {accuracy:.2f}\")\n",
        "print(\"\\nClassification Report:\")\n",
        "print(classification_report(y_test, y_pred, target_names=data.target_names))\n"
      ],
      "metadata": {
        "id": "IyHdnALgZpJ2",
        "outputId": "39cdf24a-b160-4f26-fc61-177cc99923c5",
        "colab": {
          "base_uri": "https://localhost:8080/"
        }
      },
      "execution_count": 15,
      "outputs": [
        {
          "output_type": "stream",
          "name": "stdout",
          "text": [
            "Accuracy: 0.97\n",
            "\n",
            "Classification Report:\n",
            "              precision    recall  f1-score   support\n",
            "\n",
            "   malignant       1.00      0.93      0.96        43\n",
            "      benign       0.96      1.00      0.98        71\n",
            "\n",
            "    accuracy                           0.97       114\n",
            "   macro avg       0.98      0.97      0.97       114\n",
            "weighted avg       0.97      0.97      0.97       114\n",
            "\n"
          ]
        }
      ]
    },
    {
      "cell_type": "code",
      "source": [
        "# 12\n",
        "\n",
        "from sklearn.datasets import fetch_20newsgroups\n",
        "from sklearn.feature_extraction.text import TfidfVectorizer\n",
        "from sklearn.naive_bayes import MultinomialNB\n",
        "from sklearn.metrics import accuracy_score, classification_report\n",
        "from sklearn.model_selection import train_test_split\n",
        "\n",
        "# 1. Load dataset (only some categories to keep it smaller)\n",
        "categories = ['alt.atheism', 'comp.graphics', 'sci.med', 'soc.religion.christian']\n",
        "newsgroups = fetch_20newsgroups(subset='all', categories=categories, shuffle=True, random_state=42)\n",
        "\n",
        "# 2. Vectorize text using TF-IDF\n",
        "vectorizer = TfidfVectorizer(stop_words='english', max_df=0.5)\n",
        "X = vectorizer.fit_transform(newsgroups.data)\n",
        "y = newsgroups.target\n",
        "\n",
        "# 3. Split into train/test\n",
        "X_train, X_test, y_train, y_test = train_test_split(\n",
        "    X, y, test_size=0.2, random_state=42\n",
        ")\n",
        "\n",
        "# 4. Train Multinomial Naïve Bayes model\n",
        "model = MultinomialNB()\n",
        "model.fit(X_train, y_train)\n",
        "\n",
        "# 5. Predict\n",
        "y_pred = model.predict(X_test)\n",
        "\n",
        "# 6. Evaluate accuracy\n",
        "accuracy = accuracy_score(y_test, y_pred)\n",
        "print(f\"Accuracy: {accuracy:.2f}\")\n",
        "print(\"\\nClassification Report:\")\n",
        "print(classification_report(y_test, y_pred, target_names=newsgroups.target_names))\n"
      ],
      "metadata": {
        "id": "R8a4NT5tZ0rI",
        "outputId": "3ce3de6e-456e-4fb6-8b94-ea155de0c57f",
        "colab": {
          "base_uri": "https://localhost:8080/"
        }
      },
      "execution_count": 16,
      "outputs": [
        {
          "output_type": "stream",
          "name": "stdout",
          "text": [
            "Accuracy: 0.95\n",
            "\n",
            "Classification Report:\n",
            "                        precision    recall  f1-score   support\n",
            "\n",
            "           alt.atheism       1.00      0.86      0.93       175\n",
            "         comp.graphics       0.98      0.99      0.99       200\n",
            "               sci.med       0.98      0.96      0.97       200\n",
            "soc.religion.christian       0.85      0.98      0.91       177\n",
            "\n",
            "              accuracy                           0.95       752\n",
            "             macro avg       0.95      0.95      0.95       752\n",
            "          weighted avg       0.95      0.95      0.95       752\n",
            "\n"
          ]
        }
      ]
    },
    {
      "cell_type": "code",
      "source": [
        "# 13, 14, 15, 16, 17, 18, 19, 20\n",
        "\n",
        "# H: SVM Classifier on Iris\n",
        "\n",
        "from sklearn import datasets\n",
        "from sklearn.model_selection import train_test_split\n",
        "from sklearn.svm import SVC\n",
        "from sklearn.metrics import accuracy_score\n",
        "\n",
        "iris = datasets.load_iris()\n",
        "X_train, X_test, y_train, y_test = train_test_split(\n",
        "    iris.data, iris.target, test_size=0.2, random_state=42\n",
        ")\n",
        "model = SVC(kernel='linear')\n",
        "model.fit(X_train, y_train)\n",
        "y_pred = model.predict(X_test)\n",
        "print(\"H: SVM (Iris) Accuracy:\", accuracy_score(y_test, y_pred))\n",
        "\n",
        "\n",
        "# : SVM Classifier with Linear & RBF kernels (Wine data)\n",
        "\n",
        "wine = datasets.load_wine()\n",
        "X_train, X_test, y_train, y_test = train_test_split(\n",
        "    wine.data, wine.target, test_size=0.2, random_state=42\n",
        ")\n",
        "linear_svm = SVC(kernel='linear').fit(X_train, y_train)\n",
        "rbf_svm = SVC(kernel='rbf').fit(X_train, y_train)\n",
        "print(\": Linear Kernel Accuracy:\", accuracy_score(y_test, linear_svm.predict(X_test)))\n",
        "print(\": RBF Kernel Accuracy:\", accuracy_score(y_test, rbf_svm.predict(X_test)))\n",
        "\n",
        "\n",
        "# $: SVM Regressor (SVR) on California Housing dataset (MSE)\n",
        "\n",
        "from sklearn.datasets import fetch_california_housing\n",
        "from sklearn.svm import SVR\n",
        "from sklearn.metrics import mean_squared_error\n",
        "\n",
        "housing = fetch_california_housing()\n",
        "X_train, X_test, y_train, y_test = train_test_split(\n",
        "    housing.data, housing.target, test_size=0.2, random_state=42\n",
        ")\n",
        "svr_model = SVR(kernel='rbf')\n",
        "svr_model.fit(X_train, y_train)\n",
        "y_pred = svr_model.predict(X_test)\n",
        "print(\"$: SVR MSE:\", mean_squared_error(y_test, y_pred))\n",
        "\n",
        "# %: SVM Classifier with Polynomial Kernel + Decision Boundary Plotting\n",
        "\n",
        "import matplotlib.pyplot as plt\n",
        "import numpy as np\n",
        "\n",
        "# Small synthetic dataset for visualization\n",
        "from sklearn.datasets import make_classification\n",
        "X, y = make_classification(\n",
        "    n_samples=100, n_features=2, n_informative=2, n_redundant=0,\n",
        "    random_state=42\n",
        ")\n",
        "poly_svm = SVC(kernel='poly', degree=3, C=1).fit(X, y)\n",
        "\n",
        "# Plot decision boundary\n",
        "xx, yy = np.meshgrid(\n",
        "    np.linspace(X[:, 0].min() - 1, X[:, 0].max() + 1, 100),\n",
        "    np.linspace(X[:, 1].min() - 1, X[:, 1].max() + 1, 100)\n",
        ")\n",
        "Z = poly_svm.predict(np.c_[xx.ravel(), yy.ravel()]).reshape(xx.shape)\n",
        "plt.contourf(xx, yy, Z, alpha=0.3)\n",
        "plt.scatter(X[:, 0], X[:, 1], c=y, edgecolors='k')\n",
        "plt.title(\"%: SVM Polynomial Kernel Decision Boundary\")\n",
        "plt.show()\n",
        "\n",
        "# !: Gaussian Naïve Bayes Classifier on Breast Cancer dataset\n",
        "\n",
        "from sklearn.naive_bayes import GaussianNB\n",
        "\n",
        "cancer = datasets.load_breast_cancer()\n",
        "X_train, X_test, y_train, y_test = train_test_split(\n",
        "    cancer.data, cancer.target, test_size=0.2, random_state=42\n",
        ")\n",
        "gnb = GaussianNB().fit(X_train, y_train)\n",
        "print(\"!: Gaussian NB Accuracy:\", accuracy_score(y_test, gnb.predict(X_test)))\n",
        "\n",
        "\n",
        "# ;: Multinomial Naïve Bayes (Text Classification on 20 Newsgroups data)\n",
        "\n",
        "from sklearn.datasets import fetch_20newsgroups\n",
        "from sklearn.feature_extraction.text import TfidfVectorizer\n",
        "from sklearn.naive_bayes import MultinomialNB\n",
        "from sklearn.metrics import classification_report\n",
        "\n",
        "categories = ['alt.atheism', 'comp.graphics', 'sci.med', 'soc.religion.christian']\n",
        "newsgroups = fetch_20newsgroups(subset='all', categories=categories, shuffle=True, random_state=42)\n",
        "vectorizer = TfidfVectorizer(stop_words='english', max_df=0.5)\n",
        "X = vectorizer.fit_transform(newsgroups.data)\n",
        "y = newsgroups.target\n",
        "X_train, X_test, y_train, y_test = train_test_split(\n",
        "    X, y, test_size=0.2, random_state=42\n",
        ")\n",
        "mnb = MultinomialNB().fit(X_train, y_train)\n",
        "y_pred = mnb.predict(X_test)\n",
        "print(\";: Multinomial NB Accuracy:\", accuracy_score(y_test, y_pred))\n",
        "print(\"\\nClassification Report:\\n\", classification_report(y_test, y_pred, target_names=newsgroups.target_names))\n"
      ],
      "metadata": {
        "id": "G8H0T0JiaKvY",
        "outputId": "7af522ea-768f-456a-c35a-5f6e2070f002",
        "colab": {
          "base_uri": "https://localhost:8080/",
          "height": 782
        }
      },
      "execution_count": 17,
      "outputs": [
        {
          "output_type": "stream",
          "name": "stdout",
          "text": [
            "H: SVM (Iris) Accuracy: 1.0\n",
            ": Linear Kernel Accuracy: 1.0\n",
            ": RBF Kernel Accuracy: 0.8055555555555556\n",
            "$: SVR MSE: 1.3320115421348744\n"
          ]
        },
        {
          "output_type": "display_data",
          "data": {
            "text/plain": [
              "<Figure size 640x480 with 1 Axes>"
            ],
            "image/png": "[encoded data removed]"
          },
          "metadata": {}
        },
        {
          "output_type": "stream",
          "name": "stdout",
          "text": [
            "!: Gaussian NB Accuracy: 0.9736842105263158\n",
            ";: Multinomial NB Accuracy: 0.949468085106383\n",
            "\n",
            "Classification Report:\n",
            "                         precision    recall  f1-score   support\n",
            "\n",
            "           alt.atheism       1.00      0.86      0.93       175\n",
            "         comp.graphics       0.98      0.99      0.99       200\n",
            "               sci.med       0.98      0.96      0.97       200\n",
            "soc.religion.christian       0.85      0.98      0.91       177\n",
            "\n",
            "              accuracy                           0.95       752\n",
            "             macro avg       0.95      0.95      0.95       752\n",
            "          weighted avg       0.95      0.95      0.95       752\n",
            "\n"
          ]
        }
      ]
    },
    {
      "cell_type": "code",
      "source": [
        "# 21\n",
        "\n",
        "from sklearn import datasets\n",
        "from sklearn.model_selection import train_test_split\n",
        "from sklearn.svm import SVC\n",
        "from sklearn.metrics import classification_report\n",
        "\n",
        "# Load dataset\n",
        "iris = datasets.load_iris()\n",
        "X, y = iris.data, iris.target\n",
        "\n",
        "# Train-Test Split\n",
        "X_train, X_test, y_train, y_test = train_test_split(X, y, test_size=0.3, random_state=42)\n",
        "\n",
        "# Train SVM Classifier\n",
        "svm_model = SVC(kernel='linear')\n",
        "svm_model.fit(X_train, y_train)\n",
        "\n",
        "# Predictions\n",
        "y_pred = svm_model.predict(X_test)\n",
        "\n",
        "# Evaluation\n",
        "print(\"Precision, Recall, F1-Score:\\n\")\n",
        "print(classification_report(y_test, y_pred))\n"
      ],
      "metadata": {
        "id": "lSxcYcfObGRP",
        "outputId": "696276c3-4cbe-44c6-d4d1-03a2bbc4f5ea",
        "colab": {
          "base_uri": "https://localhost:8080/"
        }
      },
      "execution_count": 18,
      "outputs": [
        {
          "output_type": "stream",
          "name": "stdout",
          "text": [
            "Precision, Recall, F1-Score:\n",
            "\n",
            "              precision    recall  f1-score   support\n",
            "\n",
            "           0       1.00      1.00      1.00        19\n",
            "           1       1.00      1.00      1.00        13\n",
            "           2       1.00      1.00      1.00        13\n",
            "\n",
            "    accuracy                           1.00        45\n",
            "   macro avg       1.00      1.00      1.00        45\n",
            "weighted avg       1.00      1.00      1.00        45\n",
            "\n"
          ]
        }
      ]
    },
    {
      "cell_type": "code",
      "source": [
        "# 22\n",
        "\n",
        "from sklearn import datasets\n",
        "from sklearn.model_selection import train_test_split\n",
        "from sklearn.naive_bayes import GaussianNB\n",
        "from sklearn.metrics import log_loss\n",
        "\n",
        "# Load dataset\n",
        "wine = datasets.load_wine()\n",
        "X, y = wine.data, wine.target\n",
        "\n",
        "# Train-Test Split\n",
        "X_train, X_test, y_train, y_test = train_test_split(X, y, test_size=0.3, random_state=42)\n",
        "\n",
        "# Train Naïve Bayes Classifier\n",
        "nb_model = GaussianNB()\n",
        "nb_model.fit(X_train, y_train)\n",
        "\n",
        "# Predictions (probabilities for log loss)\n",
        "y_proba = nb_model.predict_proba(X_test)\n",
        "\n",
        "# Log Loss\n",
        "loss = log_loss(y_test, y_proba)\n",
        "print(f\"Log Loss: {loss:.4f}\")\n"
      ],
      "metadata": {
        "id": "3-wZ1I-gbV7c",
        "outputId": "03818c8d-6313-4219-c4be-a5c47b9a4d5c",
        "colab": {
          "base_uri": "https://localhost:8080/"
        }
      },
      "execution_count": 19,
      "outputs": [
        {
          "output_type": "stream",
          "name": "stdout",
          "text": [
            "Log Loss: 0.0137\n"
          ]
        }
      ]
    },
    {
      "cell_type": "code",
      "source": [
        "# 23\n",
        "\n",
        "from sklearn import datasets\n",
        "from sklearn.model_selection import train_test_split\n",
        "from sklearn.svm import SVC\n",
        "\n",
        "# Example with Wine dataset (13 features)\n",
        "wine = datasets.load_wine()\n",
        "X_train, X_test, y_train, y_test = train_test_split(\n",
        "    wine.data, wine.target, test_size=0.2, random_state=42\n",
        ")\n",
        "\n",
        "# Create a fresh SVM for this dataset\n",
        "clf = SVC(kernel='linear')\n",
        "clf.fit(X_train, y_train)\n",
        "\n",
        "print(\"Accuracy:\", clf.score(X_test, y_test))\n"
      ],
      "metadata": {
        "id": "kPod4-HWbc3A",
        "outputId": "6a905ed8-40b7-44ec-f512-f7db97b0c71b",
        "colab": {
          "base_uri": "https://localhost:8080/"
        }
      },
      "execution_count": 27,
      "outputs": [
        {
          "output_type": "stream",
          "name": "stdout",
          "text": [
            "Accuracy: 1.0\n"
          ]
        }
      ]
    },
    {
      "cell_type": "code",
      "source": [
        "# 24\n",
        "\n",
        "import pandas as pd\n",
        "import numpy as np\n",
        "import seaborn as sns\n",
        "import matplotlib.pyplot as plt\n",
        "from sklearn.datasets import fetch_california_housing\n",
        "from sklearn.model_selection import train_test_split\n",
        "from sklearn.svm import SVR\n",
        "from sklearn.metrics import mean_absolute_error\n",
        "import warnings\n",
        "warnings.filterwarnings(\"ignore\")\n",
        "\n",
        "# Load California housing dataset\n",
        "housing = fetch_california_housing()\n",
        "X, y = housing.data, housing.target\n",
        "\n",
        "# Train-Test Split\n",
        "X_train, X_test, y_train, y_test = train_test_split(X, y, test_size=0.3, random_state=42)\n",
        "\n",
        "# Train SVR\n",
        "svr_model = SVR(kernel='rbf')\n",
        "svr_model.fit(X_train, y_train)\n",
        "\n",
        "# Predictions\n",
        "y_pred = svr_model.predict(X_test)\n",
        "\n",
        "# MAE\n",
        "mae = mean_absolute_error(y_test, y_pred)\n",
        "print(f\"Mean Absolute Error: {mae:.4f}\")\n"
      ],
      "metadata": {
        "id": "ZkixfTXCbzrd",
        "outputId": "59df3469-0cd6-4891-9aaa-ab15bf90700b",
        "colab": {
          "base_uri": "https://localhost:8080/"
        }
      },
      "execution_count": 34,
      "outputs": [
        {
          "output_type": "stream",
          "name": "stdout",
          "text": [
            "Mean Absolute Error: 0.8665\n"
          ]
        }
      ]
    },
    {
      "cell_type": "code",
      "source": [
        "# 25\n",
        "\n",
        "from sklearn.metrics import roc_auc_score\n",
        "from sklearn.preprocessing import label_binarize\n",
        "\n",
        "# Binarize labels for multi-class ROC-AUC\n",
        "y_test_bin = label_binarize(y_test, classes=[0,1,2])\n",
        "\n",
        "# ROC-AUC Score (OvR strategy)\n",
        "roc_auc = roc_auc_score(y_test_bin, y_proba, average=\"macro\", multi_class=\"ovr\")\n",
        "print(f\"ROC-AUC Score: {roc_auc:.4f}\")\n"
      ],
      "metadata": {
        "id": "cbkXu8hZcATU",
        "outputId": "4d90994a-e3d8-4e4f-cc9d-e8f6f608d912",
        "colab": {
          "base_uri": "https://localhost:8080/"
        }
      },
      "execution_count": 24,
      "outputs": [
        {
          "output_type": "stream",
          "name": "stdout",
          "text": [
            "ROC-AUC Score: 1.0000\n"
          ]
        }
      ]
    },
    {
      "cell_type": "code",
      "source": [
        "# 26\n",
        "\n",
        "from sklearn.datasets import load_breast_cancer\n",
        "from sklearn.model_selection import train_test_split\n",
        "from sklearn.naive_bayes import GaussianNB\n",
        "from sklearn.metrics import roc_auc_score\n",
        "\n",
        "# Load binary classification dataset\n",
        "data = load_breast_cancer()\n",
        "X, y = data.data, data.target  # y is already binary (0 or 1)\n",
        "\n",
        "# Train-Test Split\n",
        "X_train, X_test, y_train, y_test = train_test_split(X, y, test_size=0.3, random_state=42)\n",
        "\n",
        "# Train Naïve Bayes\n",
        "nb_model = GaussianNB()\n",
        "nb_model.fit(X_train, y_train)\n",
        "\n",
        "# Predict probabilities\n",
        "y_probs = nb_model.predict_proba(X_test)[:, 1]\n",
        "\n",
        "# ROC-AUC score\n",
        "roc_auc = roc_auc_score(y_test, y_probs)\n",
        "print(f\"ROC-AUC Score: {roc_auc:.4f}\")\n"
      ],
      "metadata": {
        "id": "Ag9elWzVcOQu",
        "outputId": "9dbaf07a-fa75-48ad-93cb-14eb3804c984",
        "colab": {
          "base_uri": "https://localhost:8080/"
        }
      },
      "execution_count": 36,
      "outputs": [
        {
          "output_type": "stream",
          "name": "stdout",
          "text": [
            "ROC-AUC Score: 0.9922\n"
          ]
        }
      ]
    },
    {
      "cell_type": "code",
      "source": [
        "# 27, 28, 29, 30\n",
        "\n",
        "from sklearn import datasets\n",
        "from sklearn.model_selection import train_test_split\n",
        "from sklearn.svm import SVC\n",
        "from sklearn.metrics import precision_score, recall_score, f1_score\n",
        "\n",
        "# Load dataset\n",
        "iris = datasets.load_iris()\n",
        "X, y = iris.data, iris.target\n",
        "\n",
        "# Train-test split\n",
        "X_train, X_test, y_train, y_test = train_test_split(X, y, test_size=0.3, random_state=42)\n",
        "\n",
        "# Train SVM Classifier\n",
        "clf = SVC(kernel='linear')\n",
        "clf.fit(X_train, y_train)\n",
        "\n",
        "# Predictions\n",
        "y_pred = clf.predict(X_test)\n",
        "\n",
        "# Metrics\n",
        "print(\"Precision:\", precision_score(y_test, y_pred, average='macro'))\n",
        "print(\"Recall:\", recall_score(y_test, y_pred, average='macro'))\n",
        "print(\"F1-Score:\", f1_score(y_test, y_pred, average='macro'))\n"
      ],
      "metadata": {
        "id": "83_i6o2gcm1n",
        "outputId": "2c17b014-1375-4ab5-8eec-11fd5c80cd73",
        "colab": {
          "base_uri": "https://localhost:8080/"
        }
      },
      "execution_count": 26,
      "outputs": [
        {
          "output_type": "stream",
          "name": "stdout",
          "text": [
            "Precision: 1.0\n",
            "Recall: 1.0\n",
            "F1-Score: 1.0\n"
          ]
        }
      ]
    }
  ]
}